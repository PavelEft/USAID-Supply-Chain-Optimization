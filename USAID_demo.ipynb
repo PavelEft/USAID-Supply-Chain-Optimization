{
 "cells": [
  {
   "cell_type": "markdown",
   "metadata": {},
   "source": [
    "Copyright 2019, Pavel Eftimovski, All rights reserved."
   ]
  },
  {
   "cell_type": "code",
   "execution_count": 8,
   "metadata": {},
   "outputs": [
    {
     "data": {
      "application/vnd.jupyter.widget-view+json": {
       "model_id": "9c9c5e8f6700456d951ad3b853bb0aad",
       "version_major": 2,
       "version_minor": 0
      },
      "text/plain": [
       "interactive(children=(Dropdown(description='Select', options=(0, 1, 2, 3, 4, 5, 6, 7, 8, 9, 10, 11, 12, 13, 14…"
      ]
     },
     "metadata": {},
     "output_type": "display_data"
    }
   ],
   "source": [
    "@interact\n",
    "def check_delivery(Select = X_test_clf.index):\n",
    "    \n",
    "    if load_clf.predict(X_test_clf.iloc[Select].values.reshape(1, -1)) == 0:\n",
    "        isDelayed=False\n",
    "        print(\"Delivery with ID:\", Select, \" will arrive on time.\")\n",
    "        \n",
    "    elif load_clf.predict(X_test_clf.iloc[Select].values.reshape(1, -1)) == 1:\n",
    "        isDelayed=True\n",
    "         \n",
    "        prediction = load_reg.predict(X_test_reg.iloc[Select].values.reshape(1, -1))\n",
    "        print()\n",
    "        print(\"Delivery with ID:\", Select, \" will be delayed. \\nApproximate time of delay: \",\n",
    "                                                            round(prediction[0], 3), \" days\")\n",
    "        \n",
    "        for i in range(len(y_test_reg.index)):\n",
    "            if i == Select:\n",
    "                df_pred_reg = pd.DataFrame([[y_test_reg.iloc[i]['delay_t'],\n",
    "                                             prediction]],\n",
    "                                             columns=['actual', 'predicted'])\n",
    "                a, b = plt.subplots(1, 1, figsize=(2,4))\n",
    "                ax = plt.axes()\n",
    "                ax.set_title(\"Actual vs. Predicted\")\n",
    "                ax = sns.barplot(data=df_pred_reg,palette=\"Blues_d\", ax=ax)\n",
    "            else:\n",
    "                pass\n",
    "    \n",
    "    button = widgets.Button(description='Send report',\n",
    "                            disabled=False,\n",
    "                            button_style='info',\n",
    "                            tooltip='True',\n",
    "                            icon='check')\n",
    "    \n",
    "    def generate_report(b):    \n",
    "        # set report description\n",
    "        shippingFrom = delivery_desc.iloc[y_ti_reg['index'][Select]]['manu_country']\n",
    "        shippingTo = delivery_desc.iloc[y_ti_reg['index'][Select]]['country']\n",
    "\n",
    "        year = str(delivery_desc.iloc[y_ti_reg['index'][Select]]['sch_del_date_yr'])\n",
    "        month = str(delivery_desc.iloc[y_ti_reg['index'][Select]]['sch_del_date_mn'])\n",
    "        day = str(delivery_desc.iloc[y_ti_reg['index'][Select]]['sch_del_date_dy'])\n",
    "        scheduled = month+\"/\"+day+\"/\"+year\n",
    "\n",
    "        if isDelayed:\n",
    "            send_email(str(Select), shippingFrom, shippingTo, scheduled, True, str(round(prediction[0], 3)))\n",
    "        else:\n",
    "            send_email(str(Select), shippingFrom, shippingTo, scheduled, False, \"\")\n",
    "            \n",
    "    display(button)\n",
    "    button.on_click(generate_report)"
   ]
  },
  {
   "cell_type": "code",
   "execution_count": 1,
   "metadata": {},
   "outputs": [],
   "source": [
    "import pandas as pd\n",
    "import seaborn as sns\n",
    "import pickle\n",
    "import ipywidgets as widgets\n",
    "from ipywidgets import interact, interact_manual\n",
    "from IPython.display import display\n",
    "import matplotlib.pyplot as plt\n",
    "import smtplib, ssl\n",
    "from email.mime.text import MIMEText\n",
    "from email.mime.multipart import MIMEMultipart"
   ]
  },
  {
   "cell_type": "code",
   "execution_count": 2,
   "metadata": {},
   "outputs": [],
   "source": [
    "demo_path = '.../USAID_Data/'\n",
    "\n",
    "# load data\n",
    "X_test_clf = pd.read_csv(demo_path + 'demo data/X_test_clf.csv')\n",
    "X_test_reg = pd.read_csv(demo_path + 'demo data/X_test_reg.csv')\n",
    "y_test_reg = pd.read_csv(demo_path + 'demo data/y_test_reg.csv')\n",
    "delivery_desc = pd.read_csv(demo_path + 'train_test/test/objects_ts.csv')\n",
    "\n",
    "# load models\n",
    "load_clf = pickle.load(open(demo_path+'final model/MLP_Classifier.sav', 'rb'))\n",
    "load_reg = pickle.load(open(demo_path+'final model/ExtraTrees_Regressor.sav', 'rb'))\n",
    "\n",
    "y_ti_reg, delivery_desc = [df.rename(columns={'Unnamed: 0': 'index'}) for df in (y_test_reg,\n",
    "                                                                                 delivery_desc)]\n",
    "\n",
    "X_test_clf, X_test_reg, y_test_reg = [df.drop(columns=['Unnamed: 0']) for df in (X_test_clf,\n",
    "                                                                                 X_test_reg,\n",
    "                                                                                 y_test_reg)]"
   ]
  },
  {
   "cell_type": "code",
   "execution_count": 3,
   "metadata": {},
   "outputs": [
    {
     "data": {
      "application/vnd.jupyter.widget-view+json": {
       "model_id": "c3c5777fe92a438baacc2fa53158b468",
       "version_major": 2,
       "version_minor": 0
      },
      "text/plain": [
       "Text(value='', description='Sender: ', placeholder='Enter sender email')"
      ]
     },
     "metadata": {},
     "output_type": "display_data"
    }
   ],
   "source": [
    "sender = widgets.Text(placeholder='Enter sender email',description='Sender: ', disabled=False)\n",
    "sender"
   ]
  },
  {
   "cell_type": "code",
   "execution_count": 4,
   "metadata": {},
   "outputs": [
    {
     "data": {
      "application/vnd.jupyter.widget-view+json": {
       "model_id": "ef246d3827274159b41c54ca1dc6634f",
       "version_major": 2,
       "version_minor": 0
      },
      "text/plain": [
       "Text(value='', description='Receiver: ', placeholder='Enter receiver email')"
      ]
     },
     "metadata": {},
     "output_type": "display_data"
    }
   ],
   "source": [
    "receiver = widgets.Text(placeholder='Enter receiver email', description='Receiver: ', disabled=False)\n",
    "receiver"
   ]
  },
  {
   "cell_type": "code",
   "execution_count": 5,
   "metadata": {},
   "outputs": [
    {
     "data": {
      "application/vnd.jupyter.widget-view+json": {
       "model_id": "43114fd5e1bf4d1993b0deb378a277b7",
       "version_major": 2,
       "version_minor": 0
      },
      "text/plain": [
       "Password(description='Password:')"
      ]
     },
     "metadata": {},
     "output_type": "display_data"
    }
   ],
   "source": [
    "password = widgets.Password(description='Password:')\n",
    "password"
   ]
  },
  {
   "cell_type": "code",
   "execution_count": 6,
   "metadata": {},
   "outputs": [],
   "source": [
    "def send_email(orderNo, shippingFrom, shippingTo, scheduled, isDelayed = False, delayedTime=\"\"):\n",
    "    message = MIMEMultipart(\"alternative\")\n",
    "    message[\"Subject\"] = \"USAID Supply Chain Report\"\n",
    "    message[\"From\"] = sender.value\n",
    "    message[\"To\"] = receiver.value\n",
    "\n",
    "    html = mailBody(orderNo, shippingFrom, shippingTo, scheduled, isDelayed, delayedTime)\n",
    "\n",
    "    # Turn these into plain/html MIMEText objects\n",
    "    part = MIMEText(html, \"html\")\n",
    "\n",
    "    # Add HTML/plain-text parts to MIMEMultipart message\n",
    "    message.attach(part)\n",
    "\n",
    "    # Create secure connection with server and send email\n",
    "    context = ssl.create_default_context()\n",
    "    with smtplib.SMTP_SSL(\"smtp.gmail.com\",465, context=context) as server:\n",
    "        server.login(sender.value,\n",
    "                     password.value)\n",
    "\n",
    "        server.sendmail(sender.value,\n",
    "                        receiver.value,\n",
    "                        message.as_string())"
   ]
  },
  {
   "cell_type": "code",
   "execution_count": 7,
   "metadata": {},
   "outputs": [],
   "source": [
    "def mailBody(orderNo, shippingFrom, shippingTo, scheduled, isDelayed = False, delayedTime=\"\"):\n",
    "    if isDelayed == True:\n",
    "        delayedTime = delayedTime\n",
    "        delayedTime = \"Forcasted delay time: <strong>\" + delayedTime + \" days</strong>\"\n",
    "    else:\n",
    "        delayedTime=\"\"\n",
    "        \n",
    "    html = \"\"\"\\\n",
    "    <!DOCTYPE html>\n",
    "    <html>\n",
    "    <head>\n",
    "      <title></title>\n",
    "    </head>\n",
    "    <body>\n",
    "      <div class=\"ii gt\" id=\":18b\">\n",
    "        <div class=\"a3s aXjCH msg7957217965308203983\" id=\":18a\">\n",
    "          <u></u>\n",
    "          <div style=\"background:#fff\">\n",
    "            <div style=\"color:transparent;opacity:0;font-size:0px;border:0;max-height:1px;width:1px;margin:0px;padding:0px;border-width:0px!important;display:none!important;line-height:0px!important\"><img border=\"0\" class=\"CToWUd\" height=\"1\" src=\"https://ci6.googleusercontent.com/proxy/xi-yQXkvbIEymdXtu5Vus_YOvvLB7p_cMqeuGRD9mko6vh3kUBoa4fk7M7dupw2VWACB6IE8-R-yvH7Belg3L_WjaXxXKeEWy2r2gaQOf0L-VV3cIY0VS0LWOqpXO4G68c-YO3whLJHlog6J0baM-e3kI8tsv2Um-CxKq2XuGnCZdOVL15y9mV3sSoo32K4p-HZOq22PKIs0rz0aaohvN1vHruc=s0-d-e1-ft#http://go.sparkpostmail.com/q/2Ure23tJIFvj2WIguYUswQ~~/AAD4-wA~/RgRdeRNOPVcDc3BjQgoAAk6OllvPfmiEUhpsYXphci5zLmdlb3JnaWV2QGdtYWlsLmNvbVgEAAAAAA~~\" width=\"1\"></div>\n",
    "            <div class=\"m_7957217965308203983mj-container\" style=\"background-color:#fff\">\n",
    "              <div style=\"margin:0 auto;max-width:960px\">\n",
    "                <table align=\"center\" border=\"0\" cellpadding=\"0\" cellspacing=\"0\" role=\"presentation\" style=\"font-size:0;width:100%\">\n",
    "                  <tbody>\n",
    "                    <tr>\n",
    "                      <td style=\"text-align:center;vertical-align:top;direction:ltr;font-size:0;padding:20px 0;padding-bottom:64px;padding-top:64px\">\n",
    "                        <div class=\"m_7957217965308203983mj-column-per-100 m_7957217965308203983outlook-group-fix\" style=\"vertical-align:top;display:inline-block;direction:ltr;font-size:13px;text-align:left;width:100%\">\n",
    "                          <table border=\"0\" cellpadding=\"0\" cellspacing=\"0\" role=\"presentation\" width=\"100%\">\n",
    "                            <tbody>\n",
    "                              <tr>\n",
    "                                <td align=\"center\" style=\"word-wrap:break-word;font-size:0;padding:10px 25px;padding-top:0;padding-bottom:0\">\n",
    "                                  <table align=\"center\" border=\"0\" cellpadding=\"0\" cellspacing=\"0\" role=\"presentation\" style=\"border-collapse:collapse;border-spacing:0\">\n",
    "                                    <tbody>\n",
    "                                      <tr>\n",
    "                                        <td style=\"width:105px\">\n",
    "\n",
    "                                        </td>\n",
    "                                      </tr>\n",
    "                                    </tbody>\n",
    "                                  </table>\n",
    "                                </td>\n",
    "                              </tr>\n",
    "                            </tbody>\n",
    "                          </table>\n",
    "                        </div>\n",
    "                      </td>\n",
    "                    </tr>\n",
    "                  </tbody>\n",
    "                </table>\n",
    "              </div>\n",
    "              <div style=\"margin:0 auto;max-width:960px\">\n",
    "                <table align=\"center\" border=\"0\" cellpadding=\"0\" cellspacing=\"0\" role=\"presentation\" style=\"font-size:0;width:100%\">\n",
    "                  <tbody>\n",
    "                    <tr>\n",
    "                      <td style=\"text-align:center;vertical-align:top;direction:ltr;font-size:0;padding:20px 0;padding-bottom:20px;padding-top:0\">\n",
    "                        <div class=\"m_7957217965308203983mj-column-px-550 m_7957217965308203983outlook-group-fix\" style=\"vertical-align:top;display:inline-block;direction:ltr;font-size:13px;text-align:left;width:100%\">\n",
    "                          <table border=\"0\" cellpadding=\"0\" cellspacing=\"0\" role=\"presentation\" width=\"100%\">\n",
    "                            <tbody>\n",
    "                              <tr>\n",
    "                                <td align=\"center\" style=\"word-wrap:break-word;font-size:0;padding:10px 25px;padding-top:0;padding-bottom:0\">\n",
    "                                  <div style=\"color:#191c1e;font-family:Helvetica Neue,Arial;font-size:48px;font-weight:300;line-height:1.16;text-align:center\">\n",
    "                                    USAID Supply Chain Forecast\n",
    "                                  </div>\n",
    "                                </td>\n",
    "                              </tr>\n",
    "                            </tbody>\n",
    "                          </table>\n",
    "                        </div>\n",
    "                      </td>\n",
    "                    </tr>\n",
    "                  </tbody>\n",
    "                </table>\n",
    "              </div>\n",
    "              <div style=\"margin:0 auto;max-width:960px\">\n",
    "                <table align=\"center\" border=\"0\" cellpadding=\"0\" cellspacing=\"0\" role=\"presentation\" style=\"font-size:0;width:100%\">\n",
    "                  <tbody>\n",
    "                    <tr>\n",
    "                      <td style=\"text-align:center;vertical-align:top;direction:ltr;font-size:0;padding:20px 0;padding-bottom:64px;padding-top:0\">\n",
    "                        <div class=\"m_7957217965308203983mj-column-px-560 m_7957217965308203983outlook-group-fix\" style=\"vertical-align:top;display:inline-block;direction:ltr;font-size:13px;text-align:left;width:100%\">\n",
    "                          <table border=\"0\" cellpadding=\"0\" cellspacing=\"0\" role=\"presentation\" width=\"100%\">\n",
    "                            <tbody>\n",
    "                              <tr>\n",
    "                                <td align=\"center\" style=\"word-wrap:break-word;font-size:0;padding:10px 25px;padding-top:0;padding-bottom:64px\">\n",
    "                                  <table align=\"center\" border=\"0\" cellpadding=\"0\" cellspacing=\"0\" role=\"presentation\" style=\"border-collapse:collapse;border-spacing:0\">\n",
    "                                    <tbody>\n",
    "                                      <tr>\n",
    "                                        <td style=\"width:448px\">\n",
    "                                          <img alt=\"\" class=\"CToWUd a6T\" height=\"auto\" src=\"https://ci5.googleusercontent.com/proxy/_1MEnUtgWOXkzWWqvtrOqCJyTnH71CeQ74b4ZvNvdL-v_aoBtRq0Ek5Zhfudr9mrhHvvkpG4NHdt5uq_JCnvfB-T_AIGP09NDnH4uQJhj9h0POyl-ozo9hFgw4rZhhKoe6rDC1OpWY5j9wk=s0-d-e1-ft#https://s3-eu-west-1.amazonaws.com/revolut-cdn/email/newsletters/card+delivery/Drone.gif\" style=\"border:none;border-radius:0;display:block;font-size:13px;outline:0;text-decoration:none;width:100%;height:auto\" tabindex=\"0\" width=\"448\">\n",
    "                                          <div class=\"a6S\" dir=\"ltr\" style=\"opacity: 0.01;\">\n",
    "                                            <div aria-label=\"Download attachment\" class=\"T-I J-J5-Ji aQv T-I-ax7 L3 a5q\" data-tooltip-class=\"a1V\" id=\":19p\" role=\"button\" tabindex=\"0\" title=\"Download\">\n",
    "                                              <div class=\"aSK J-J5-Ji aYr\"></div>\n",
    "                                            </div>\n",
    "                                          </div>\n",
    "                                        </td>\n",
    "                                      </tr>\n",
    "                                    </tbody>\n",
    "                                  </table>\n",
    "                                </td>\n",
    "                              </tr>\n",
    "                              <tr>\n",
    "                                <td align=\"center\" style=\"word-wrap:break-word;font-size:0;padding:0\">\n",
    "                                  <div style=\"color:#333;font-family:Helvetica Neue,Arial;font-size:16px;font-weight:400;line-height:1.5;text-align:center\">\n",
    "                                    This is a generated report for delivery with ID: \n",
    "                                    \"\"\" + orderNo + \"\"\"\\\n",
    "                                    <br/><br/>\n",
    "                                    Shipped from: \n",
    "                                    \"\"\" + shippingFrom + \"\"\"\\\n",
    "                                    <br/>\n",
    "                                    Destination:  \n",
    "                                    \"\"\" + shippingTo + \"\"\"\\\n",
    "                                    <br/>\n",
    "                                    Scheduled delivery date:  \n",
    "                                    \"\"\" + scheduled + \"\"\"\\\n",
    "                                    <br/> \n",
    "                                    \"\"\" + delayedTime + \"\"\"\\\n",
    "                                    <br/>\n",
    "                                  </div>\n",
    "                                </td>\n",
    "                              </tr>\n",
    "                            </tbody>\n",
    "                          </table>\n",
    "                        </div>\n",
    "                      </td>\n",
    "                    </tr>\n",
    "                  </tbody>\n",
    "                </table>\n",
    "              </div>\n",
    "              <div style=\"margin:0 auto;max-width:960px\">\n",
    "                <table align=\"center\" border=\"0\" cellpadding=\"0\" cellspacing=\"0\" role=\"presentation\" style=\"font-size:0;width:100%\">\n",
    "                  <tbody>\n",
    "                    <tr>\n",
    "                      <td style=\"text-align:center;vertical-align:top;direction:ltr;font-size:0;padding:20px 0;padding-bottom:64px;padding-top:0\">\n",
    "                        <div class=\"m_7957217965308203983mj-column-px-560 m_7957217965308203983outlook-group-fix\" style=\"vertical-align:top;display:inline-block;direction:ltr;font-size:13px;text-align:left;width:100%\">\n",
    "                          <table border=\"0\" cellpadding=\"0\" cellspacing=\"0\" role=\"presentation\" width=\"100%\">\n",
    "                            <tbody>\n",
    "                              <tr>\n",
    "                                <td align=\"center\" style=\"word-wrap:break-word;font-size:0;padding:10px 25px;padding-top:0;padding-bottom:20px\">\n",
    "                                  <table align=\"center\" border=\"0\" cellpadding=\"0\" cellspacing=\"0\" role=\"presentation\" style=\"border-collapse:collapse;border-spacing:0\">\n",
    "                                    <tbody>\n",
    "                                      <tr>\n",
    "                                        <td style=\"width:72px\"><img alt=\"\" class=\"CToWUd\" height=\"auto\" src=\"https://ci5.googleusercontent.com/proxy/J5ssTGnZ_RAEq05s9brrdgNdmVxEHXnoteLYsOxGR_zzNNd07LYFizEnj3VxZUeAiaqVCWxqfBQ-fttjDFTSTVeyN7sLVUFmqrIrKup7YYBk6KPkE6fd7sai7S-igMttTk05swlZww=s0-d-e1-ft#https://s3-eu-west-1.amazonaws.com/revolut-cdn/email/newsletters/card+delivery/2.png\" style=\"border:none;border-radius:0;display:block;font-size:13px;outline:0;text-decoration:none;width:100%;height:auto\" width=\"72\"></td>\n",
    "                                      </tr>\n",
    "                                    </tbody>\n",
    "                                  </table>\n",
    "                                </td>\n",
    "                              </tr>\n",
    "                            </tbody>\n",
    "                          </table>\n",
    "                        </div>\n",
    "                        iv style=\"margin:0 auto;max-width:960px;background:#fafafa\">\n",
    "            <table align=\"center\" border=\"0\" cellpadding=\"0\" cellspacing=\"0\" role=\"presentation\" style=\"font-size:0;width:100%;background:#fafafa\">\n",
    "              <tbody>\n",
    "                <tr>\n",
    "                  <td style=\"text-align:center;vertical-align:top;direction:ltr;font-size:0;padding:20px 0;padding-bottom:36px;padding-top:36px\">\n",
    "                    <div class=\"m_7957217965308203983mj-column-per-100 m_7957217965308203983outlook-group-fix\" style=\"vertical-align:top;display:inline-block;direction:ltr;font-size:13px;text-align:left;width:100%\">\n",
    "                      <table border=\"0\" cellpadding=\"0\" cellspacing=\"0\" role=\"presentation\" width=\"100%\">\n",
    "                        <tbody>\n",
    "                          <tr>\n",
    "                            <td>\n",
    "                              <center style=\"max-width:320px;margin:0 auto\">\n",
    "                               Gif animation taken from revolut.com\n",
    "                              </center>\n",
    "                            </td>\n",
    "                          </tr>\n",
    "                        </tbody>\n",
    "                      </table>\n",
    "                    </div>\n",
    "                  </td>\n",
    "                </tr>\n",
    "              </tbody>\n",
    "            </table>\n",
    "          </div>\n",
    "                      </td>\n",
    "                    </tr>\n",
    "                  </tbody>\n",
    "                </table>\n",
    "              </div>\n",
    "          </div></div></div></div></body></html>\n",
    "    \"\"\"\n",
    "    return html"
   ]
  }
 ],
 "metadata": {
  "kernelspec": {
   "display_name": "Python 3",
   "language": "python",
   "name": "python3"
  },
  "language_info": {
   "codemirror_mode": {
    "name": "ipython",
    "version": 3
   },
   "file_extension": ".py",
   "mimetype": "text/x-python",
   "name": "python",
   "nbconvert_exporter": "python",
   "pygments_lexer": "ipython3",
   "version": "3.6.7"
  }
 },
 "nbformat": 4,
 "nbformat_minor": 2
}
